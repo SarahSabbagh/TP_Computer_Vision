{
 "cells": [
  {
   "cell_type": "code",
   "execution_count": 1,
   "id": "6f940a5a",
   "metadata": {},
   "outputs": [
    {
     "ename": "ModuleNotFoundError",
     "evalue": "No module named 'cv2'",
     "output_type": "error",
     "traceback": [
      "\u001b[1;31m---------------------------------------------------------------------------\u001b[0m",
      "\u001b[1;31mModuleNotFoundError\u001b[0m                       Traceback (most recent call last)",
      "\u001b[1;32m<ipython-input-1-c8ec22b3e787>\u001b[0m in \u001b[0;36m<module>\u001b[1;34m\u001b[0m\n\u001b[1;32m----> 1\u001b[1;33m \u001b[1;32mimport\u001b[0m \u001b[0mcv2\u001b[0m\u001b[1;33m\u001b[0m\u001b[1;33m\u001b[0m\u001b[0m\n\u001b[0m",
      "\u001b[1;31mModuleNotFoundError\u001b[0m: No module named 'cv2'"
     ]
    }
   ],
   "source": [
    "import cv2\n",
    "url = 'C:/Users/Med Boudriga/Desktop/LAB1'\n",
    "image = cv2.imread(url)\n",
    "window_name = 'image'\n",
    "\n"
   ]
  },
  {
   "cell_type": "code",
   "execution_count": null,
   "id": "a979998e",
   "metadata": {},
   "outputs": [],
   "source": [
    "url = 'C:/Users/Med Boudriga/Desktop/LAB1'"
   ]
  },
  {
   "cell_type": "code",
   "execution_count": null,
   "id": "5d2cce2c",
   "metadata": {},
   "outputs": [],
   "source": [
    "image = cv2.imread(url)"
   ]
  },
  {
   "cell_type": "code",
   "execution_count": null,
   "id": "72f27a06",
   "metadata": {},
   "outputs": [],
   "source": [
    "window_name = 'image'"
   ]
  },
  {
   "cell_type": "code",
   "execution_count": null,
   "id": "9c110abc",
   "metadata": {},
   "outputs": [],
   "source": [
    "cv2.imshow(window_name, image)\n",
    "cv2.waitKey(0)"
   ]
  }
 ],
 "metadata": {
  "kernelspec": {
   "display_name": "Python 3",
   "language": "python",
   "name": "python3"
  },
  "language_info": {
   "codemirror_mode": {
    "name": "ipython",
    "version": 3
   },
   "file_extension": ".py",
   "mimetype": "text/x-python",
   "name": "python",
   "nbconvert_exporter": "python",
   "pygments_lexer": "ipython3",
   "version": "3.8.8"
  }
 },
 "nbformat": 4,
 "nbformat_minor": 5
}
